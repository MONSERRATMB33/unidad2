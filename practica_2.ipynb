{
  "nbformat": 4,
  "nbformat_minor": 0,
  "metadata": {
    "colab": {
      "provenance": [],
      "authorship_tag": "ABX9TyOYbzAtxDY6EgZiDFUKE0gL",
      "include_colab_link": true
    },
    "kernelspec": {
      "name": "python3",
      "display_name": "Python 3"
    },
    "language_info": {
      "name": "python"
    }
  },
  "cells": [
    {
      "cell_type": "markdown",
      "metadata": {
        "id": "view-in-github",
        "colab_type": "text"
      },
      "source": [
        "<a href=\"https://colab.research.google.com/github/MONSERRATMB33/unidad2/blob/main/practica_2.ipynb\" target=\"_parent\"><img src=\"https://colab.research.google.com/assets/colab-badge.svg\" alt=\"Open In Colab\"/></a>"
      ]
    },
    {
      "cell_type": "markdown",
      "source": [
        "Monserrat monsivais barron practica 2 de Pandas 7 de octubre del 2025\n",
        "---------------------------------------------------------------------\n",
        "dataframes de pandas\n",
        "---------------------\n",
        "un datraframe es una estructura de datos bidimensionales como una matriz o tabla con filas y columnas\n",
        "-----------------------------------------------------------------------------\n",
        "ejemplo: crea una dataframe basico\n"
      ],
      "metadata": {
        "id": "0VO1-p0C3muU"
      }
    },
    {
      "cell_type": "code",
      "source": [
        "import pandas as pd\n",
        "datos = {\n",
        "    \"calorias\": [420, 380, 390],\n",
        "    \"duracion\": [50, 40, 45]\n",
        "}\n",
        "\n",
        "#cargar datos dentro del DATAFRAME\n",
        "df_ejercicio1 = pd.DataFrame(datos)\n",
        "print(df_ejercicio1)\n"
      ],
      "metadata": {
        "colab": {
          "base_uri": "https://localhost:8080/"
        },
        "id": "DqN7Oaf04qSj",
        "outputId": "cd422e96-a75f-4942-da09-f53114bba20c"
      },
      "execution_count": 2,
      "outputs": [
        {
          "output_type": "stream",
          "name": "stdout",
          "text": [
            "   calorias  duracion\n",
            "0       420        50\n",
            "1       380        40\n",
            "2       390        45\n"
          ]
        }
      ]
    },
    {
      "cell_type": "markdown",
      "source": [
        "localiza filas\n",
        "\n",
        "como puedes ver en el resultado anterior,el dataframe es como una tabla con filas\n",
        "\n",
        "pandas usa el atributo \"loc\" para devolver una o mas filas especificas"
      ],
      "metadata": {
        "id": "cjs7IWuj_uvi"
      }
    },
    {
      "cell_type": "code",
      "source": [
        "import pandas as pd\n",
        "datos = {\n",
        "    \"calorias\": [420, 380, 390],\n",
        "    \"duracion\": [50, 40, 45]\n",
        "}\n",
        "#cargar datos dentro del DATAFRAME\n",
        "df = pd.DataFrame(datos)\n",
        "print(df.loc[0])"
      ],
      "metadata": {
        "colab": {
          "base_uri": "https://localhost:8080/"
        },
        "id": "mYzyAcLR_6rR",
        "outputId": "03772cf3-c578-45ba-96cc-deddb1185d6c"
      },
      "execution_count": 5,
      "outputs": [
        {
          "output_type": "stream",
          "name": "stdout",
          "text": [
            "calorias    420\n",
            "duracion     50\n",
            "Name: 0, dtype: int64\n"
          ]
        }
      ]
    },
    {
      "cell_type": "markdown",
      "source": [
        "ejercicio localiza la fila 1 y 2"
      ],
      "metadata": {
        "id": "c-H4-qrdCNja"
      }
    },
    {
      "cell_type": "code",
      "source": [
        "import pandas as pd\n",
        "datos = {\n",
        "    \"calorias\": [420, 380, 390],\n",
        "    \"duracion\": [50, 40, 45]\n",
        "}\n",
        "#cargar datos dentro del DATAFRAME\n",
        "df = pd.DataFrame(datos)\n",
        "print(df.loc[[1, 2]])"
      ],
      "metadata": {
        "colab": {
          "base_uri": "https://localhost:8080/"
        },
        "id": "rRuNDIw8Ca8Y",
        "outputId": "9fdffeea-a9fa-44d8-dd33-b3c4402e085a"
      },
      "execution_count": 8,
      "outputs": [
        {
          "output_type": "stream",
          "name": "stdout",
          "text": [
            "   calorias  duracion\n",
            "1       380        40\n",
            "2       390        45\n"
          ]
        }
      ]
    },
    {
      "cell_type": "markdown",
      "source": [
        "con el indice \"indix\" puedes nombrar tus propios indiceso etiquetas ejemplo:agrega una lista de nombres para darle una etiqueta a cada fila"
      ],
      "metadata": {
        "id": "0rl__mtHGfl3"
      }
    },
    {
      "cell_type": "code",
      "source": [
        "import pandas as pd\n",
        "datos = {\n",
        "    \"calorias\":[420, 380, 390],\n",
        "    \"duracion\":[50, 40, 45]\n",
        "}\n",
        "#cargar datos dentro del DATAFRAME\n",
        "df = pd.DataFrame(datos,index = [\"day1\", \"day2\", \"day3\"])\n",
        "print (df)"
      ],
      "metadata": {
        "colab": {
          "base_uri": "https://localhost:8080/"
        },
        "id": "sC_gf_G0G_Yf",
        "outputId": "0a833fea-fc3c-4afe-b7dc-4c1fd2ff35d2"
      },
      "execution_count": 11,
      "outputs": [
        {
          "output_type": "stream",
          "name": "stdout",
          "text": [
            "      calorias  duracion\n",
            "day1       420        50\n",
            "day2       380        40\n",
            "day3       390        45\n"
          ]
        }
      ]
    },
    {
      "cell_type": "markdown",
      "source": [
        "localizar indices por el nombre de etiquetas\n",
        "\n",
        "utilice el articulo \"loc\" de localizar para devolver las (5) filas especificas\n",
        "ejemplo: devuelve la fila dia 2"
      ],
      "metadata": {
        "id": "GzWKKFXrIgig"
      }
    },
    {
      "cell_type": "code",
      "source": [
        "import pandas as pd\n",
        "datos = {\n",
        "    \"calorias\":[420, 380, 390],\n",
        "    \"duracion\":[50, 40, 45]\n",
        "}\n",
        "#cargar los datos del dataframe\n",
        "df = pd.DataFrame(datos, index = [\"day1\", \"day2\", \"day3\"])\n",
        "#devuelve la fila dia 2\n",
        "print(df.loc[\"day2\"])\n"
      ],
      "metadata": {
        "colab": {
          "base_uri": "https://localhost:8080/"
        },
        "id": "msrmFzmQJDk_",
        "outputId": "810fc613-0eb3-4253-cd71-31df3e968735"
      },
      "execution_count": 10,
      "outputs": [
        {
          "output_type": "stream",
          "name": "stdout",
          "text": [
            "calorias    380\n",
            "duracion     40\n",
            "Name: day2, dtype: int64\n"
          ]
        }
      ]
    }
  ]
}